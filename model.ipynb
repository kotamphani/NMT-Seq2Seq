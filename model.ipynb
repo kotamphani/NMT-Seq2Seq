{
 "cells": [
  {
   "cell_type": "code",
   "execution_count": 1,
   "metadata": {},
   "outputs": [],
   "source": [
    "import numpy as np\n",
    "import torch\n",
    "import torch.nn as nn\n",
    "import torch.nn.functional as F\n",
    "\n",
    "import re\n",
    "import string\n",
    "from nltk.tokenize import RegexpTokenizer"
   ]
  },
  {
   "cell_type": "code",
   "execution_count": 43,
   "metadata": {},
   "outputs": [
    {
     "name": "stdout",
     "output_type": "stream",
     "text": [
      "155798\n",
      "155798\n"
     ]
    }
   ],
   "source": [
    "def load_data(text_file):\n",
    "    with open(text_file, 'r') as f:\n",
    "        lines = f.readlines()\n",
    "\n",
    "    lines = [line.strip() for line in lines]\n",
    "    english_text = []\n",
    "    telugu_text = []\n",
    "    \n",
    "    for line in lines:\n",
    "        parts = line.split('++++$++++')\n",
    "        english_text.append(parts[0].strip())\n",
    "        telugu_text.append(parts[1].strip())\n",
    "    \n",
    "    return english_text, telugu_text\n",
    "\n",
    "path = 'english_telugu_data.txt'\n",
    "english_sentences, telugu_sentences = load_data(path)\n",
    "print(len(english_sentences))\n",
    "print(len(telugu_sentences))"
   ]
  },
  {
   "cell_type": "code",
   "execution_count": 44,
   "metadata": {},
   "outputs": [
    {
     "data": {
      "text/plain": [
       "30000"
      ]
     },
     "execution_count": 44,
     "metadata": {},
     "output_type": "execute_result"
    }
   ],
   "source": [
    "english_sentences = english_sentences[:30000]\n",
    "len(english_sentences)"
   ]
  },
  {
   "cell_type": "code",
   "execution_count": 45,
   "metadata": {},
   "outputs": [
    {
     "data": {
      "text/plain": [
       "30000"
      ]
     },
     "execution_count": 45,
     "metadata": {},
     "output_type": "execute_result"
    }
   ],
   "source": [
    "telugu_sentences = telugu_sentences[0:30000]\n",
    "len(telugu_sentences)"
   ]
  },
  {
   "cell_type": "code",
   "execution_count": 64,
   "metadata": {},
   "outputs": [
    {
     "name": "stdout",
     "output_type": "stream",
     "text": [
      " len(english_vocab): 8137\n",
      " len(telugu_vocab): 17400\n"
     ]
    }
   ],
   "source": [
    "def tokenize(sentences):\n",
    "    vocab = set()\n",
    "    tokenized_sentences = []\n",
    "    \n",
    "    for sentence in sentences:\n",
    "        sentence = sentence.translate(str.maketrans('', '', string.punctuation))\n",
    "        words = sentence.split()\n",
    "        tokenized_sentences.append(words)\n",
    "        for word in words:\n",
    "            vocab.add(word)\n",
    "    return tokenized_sentences,list(vocab)\n",
    "\n",
    "english_sentences_tokenized, english_vocab = tokenize(english_sentences)\n",
    "telugu_sentences_tokenized, telugu_vocab = tokenize(telugu_sentences)\n",
    "\n",
    "print(f' len(english_vocab): {len(english_vocab)}')\n",
    "print(f' len(telugu_vocab): {len(telugu_vocab)}')\n",
    "\n",
    "for i, vocab in enumerate(telugu_vocab):\n",
    "    vocab = vocab.replace('\\u200c','')\n",
    "    telugu_vocab[i] = vocab\n",
    "\n",
    "telugu_vocab  += ['<pad>','<unk>','<sos>','<eos>']\n",
    "english_vocab += ['<pad>','<unk>','<sos>','<eos>']"
   ]
  },
  {
   "cell_type": "code",
   "execution_count": 70,
   "metadata": {},
   "outputs": [],
   "source": [
    "english_itow = {i: w for i, w in enumerate(english_vocab)}\n",
    "english_wtoi = {w:i for i, w in english_itow.items()}\n",
    "\n",
    "telugu_itow = {i: w for i, w in enumerate(telugu_vocab)}\n",
    "telugu_wtoi = {w:i for i, w in telugu_itow.items()}"
   ]
  },
  {
   "cell_type": "code",
   "execution_count": null,
   "metadata": {},
   "outputs": [],
   "source": []
  }
 ],
 "metadata": {
  "kernelspec": {
   "display_name": "datascience",
   "language": "python",
   "name": "python3"
  },
  "language_info": {
   "codemirror_mode": {
    "name": "ipython",
    "version": 3
   },
   "file_extension": ".py",
   "mimetype": "text/x-python",
   "name": "python",
   "nbconvert_exporter": "python",
   "pygments_lexer": "ipython3",
   "version": "3.10.10"
  }
 },
 "nbformat": 4,
 "nbformat_minor": 2
}
