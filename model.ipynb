{
 "cells": [
  {
   "cell_type": "code",
   "execution_count": 46,
   "metadata": {},
   "outputs": [],
   "source": [
    "import numpy as np\n",
    "import torch\n",
    "import torch.nn as nn\n",
    "import torch.nn.functional as F\n",
    "import string\n",
    "import random as r\n",
    "from utils import load_data"
   ]
  },
  {
   "cell_type": "code",
   "execution_count": 47,
   "metadata": {},
   "outputs": [
    {
     "name": "stdout",
     "output_type": "stream",
     "text": [
      "155798\n",
      "155798\n"
     ]
    }
   ],
   "source": [
    "path = 'english_telugu_data.txt'\n",
    "english_sentences, telugu_sentences = load_data(path)\n",
    "print(len(english_sentences))\n",
    "print(len(telugu_sentences))"
   ]
  },
  {
   "cell_type": "code",
   "execution_count": 48,
   "metadata": {},
   "outputs": [
    {
     "name": "stdout",
     "output_type": "stream",
     "text": [
      "['His legs are long.', 'Who taught Tom how to speak French?']\n",
      "['అతని కాళ్ళు పొడవుగా ఉన్నాయి.', 'టామ్ ఫ్రెంచ్ మాట్లాడటం ఎలా నేర్పించారు?']\n"
     ]
    }
   ],
   "source": [
    "print(english_sentences[0:2])\n",
    "print(telugu_sentences[0:2])"
   ]
  },
  {
   "cell_type": "code",
   "execution_count": 49,
   "metadata": {},
   "outputs": [
    {
     "data": {
      "text/plain": [
       "30000"
      ]
     },
     "execution_count": 49,
     "metadata": {},
     "output_type": "execute_result"
    }
   ],
   "source": [
    "english_sentences = english_sentences[:30000]\n",
    "len(english_sentences)"
   ]
  },
  {
   "cell_type": "code",
   "execution_count": 50,
   "metadata": {},
   "outputs": [
    {
     "data": {
      "text/plain": [
       "30000"
      ]
     },
     "execution_count": 50,
     "metadata": {},
     "output_type": "execute_result"
    }
   ],
   "source": [
    "telugu_sentences = telugu_sentences[0:30000]\n",
    "len(telugu_sentences)"
   ]
  },
  {
   "cell_type": "code",
   "execution_count": 64,
   "metadata": {},
   "outputs": [
    {
     "name": "stdout",
     "output_type": "stream",
     "text": [
      " len(english_vocab): 8141\n",
      " len(telugu_vocab): 17372\n"
     ]
    }
   ],
   "source": [
    "def tokenize(sentences):\n",
    "    vocab = set()\n",
    "    tokenized_sentences = []\n",
    "    \n",
    "    for sentence in sentences:\n",
    "        sentence = sentence.translate(str.maketrans('', '', string.punctuation))\n",
    "        words = sentence.split()\n",
    "        tokenized_sentences.append(words)\n",
    "        for word in words:\n",
    "            vocab.add(word)\n",
    "    return tokenized_sentences,list(vocab)\n",
    "\n",
    "english_sentences_tokenized, english_vocab = tokenize(english_sentences)\n",
    "telugu_sentences_tokenized, telugu_vocab = tokenize(telugu_sentences)\n",
    "\n",
    "\n",
    "\n",
    "for i, vocab in enumerate(telugu_vocab):\n",
    "    vocab = vocab.replace('\\u200c','')\n",
    "    telugu_vocab[i] = vocab\n",
    "\n",
    "telugu_vocab = list(set(telugu_vocab))\n",
    "telugu_vocab  = ['<pad>','<unk>','<sos>','<eos>'] + telugu_vocab\n",
    "english_vocab = ['<pad>','<unk>','<sos>','<eos>'] + english_vocab\n",
    "\n",
    "print(f' len(english_vocab): {len(english_vocab)}')\n",
    "print(f' len(telugu_vocab): {len(telugu_vocab)}')"
   ]
  },
  {
   "cell_type": "code",
   "execution_count": 65,
   "metadata": {},
   "outputs": [
    {
     "name": "stdout",
     "output_type": "stream",
     "text": [
      "english_itow =  8141\n",
      "telugu_itow =  17372\n",
      "english_wtoi =  8141\n",
      "telugu_wtoi =  17372\n"
     ]
    }
   ],
   "source": [
    "english_itow = {i: w for i, w in enumerate(english_vocab)}\n",
    "english_wtoi = {w:i for i, w in english_itow.items()}\n",
    "\n",
    "telugu_itow = {i: w for i, w in enumerate(telugu_vocab)}\n",
    "telugu_wtoi = {w:i for i, w in telugu_itow.items()}\n",
    "\n",
    "print(\"english_itow = \", len(english_itow)) \n",
    "print(\"telugu_itow = \", len(telugu_itow))\n",
    "print(\"english_wtoi = \", len(english_wtoi))\n",
    "print(\"telugu_wtoi = \", len(telugu_wtoi))\n",
    "\n",
    "\n",
    "\n"
   ]
  },
  {
   "cell_type": "code",
   "execution_count": 66,
   "metadata": {},
   "outputs": [],
   "source": [
    "def vectorize_input(data, wtoi):\n",
    "    vectorized_data = []\n",
    "    for sentence in data:\n",
    "        arr = [wtoi['<sos>']]\n",
    "        for word in sentence:\n",
    "            if word not in wtoi:\n",
    "                arr.append(wtoi['<unk>'])\n",
    "            else:\n",
    "                arr.append(wtoi[word])\n",
    "        arr.append(wtoi['<eos>'])\n",
    "        vectorized_data.append(arr)\n",
    "    return vectorized_data\n",
    "\n",
    "def vectorize_target(data, wtoi):\n",
    "    vectorized_data = []\n",
    "    shifted_right = []\n",
    "    for sentence in data:\n",
    "        arr = []\n",
    "        for word in sentence:\n",
    "            if word not in wtoi:\n",
    "                arr.append(wtoi['<unk>'])\n",
    "            else:\n",
    "                arr.append(wtoi[word])\n",
    "        vectorized_data.append(arr + [wtoi['<eos>']])\n",
    "        shifted_right.append([wtoi['<sos>']] + arr)\n",
    "    return vectorized_data, shifted_right"
   ]
  },
  {
   "cell_type": "code",
   "execution_count": 67,
   "metadata": {},
   "outputs": [
    {
     "name": "stdout",
     "output_type": "stream",
     "text": [
      "30000 30000\n"
     ]
    }
   ],
   "source": [
    "X = vectorize_input(english_sentences_tokenized, english_wtoi)\n",
    "Y, Y_shifted = vectorize_target(telugu_sentences_tokenized, telugu_wtoi)\n",
    "print(len(X), len(Y))"
   ]
  },
  {
   "cell_type": "code",
   "execution_count": 68,
   "metadata": {},
   "outputs": [
    {
     "data": {
      "text/plain": [
       "17372"
      ]
     },
     "execution_count": 68,
     "metadata": {},
     "output_type": "execute_result"
    }
   ],
   "source": [
    "len(telugu_itow)"
   ]
  },
  {
   "cell_type": "code",
   "execution_count": 69,
   "metadata": {},
   "outputs": [
    {
     "data": {
      "text/plain": [
       "17372"
      ]
     },
     "execution_count": 69,
     "metadata": {},
     "output_type": "execute_result"
    }
   ],
   "source": [
    "len(telugu_wtoi)"
   ]
  },
  {
   "cell_type": "code",
   "execution_count": 70,
   "metadata": {},
   "outputs": [],
   "source": [
    "def data_generator(X, Y, Y_shifted,batch_size = None, shuffle = True):\n",
    "        \n",
    "    if batch_size == None:\n",
    "        batch_size = len(X)\n",
    "    elif batch_size > len(X):\n",
    "        raise Exception(\"batch size should be less than Length of X\")\n",
    "    \n",
    "    indexes = [*range(len(X))]\n",
    "    \n",
    "    if shuffle:\n",
    "        r.shuffle(indexes)\n",
    "    \n",
    "    buffer_x = [0]*batch_size\n",
    "    buffer_y = [0]*batch_size\n",
    "    buffer_y_shifted = [0]*batch_size\n",
    "    \n",
    "    max_length_x = 0\n",
    "    max_length_y = 0\n",
    "    \n",
    "    for i in range(batch_size):\n",
    "        buffer_x[i] = X[indexes[i]]\n",
    "        buffer_y[i] = Y[indexes[i]]\n",
    "        buffer_y_shifted[i] = Y_shifted[indexes[i]]\n",
    "        max_length_x = max(len(X[indexes[i]]), max_length_x)\n",
    "        max_length_y = max(len(Y[indexes[i]]), max_length_y)\n",
    "    \n",
    "    for index, (x, y, y_shifted) in enumerate(zip(buffer_x, buffer_y, buffer_y_shifted)):\n",
    "        pad_length_x = max_length_x - len(x)\n",
    "        pad_length_y = max_length_y - len(y)\n",
    "        \n",
    "        buffer_x[index] = x + [english_wtoi['<pad>']] * pad_length_x\n",
    "        buffer_y[index] = y + [telugu_wtoi['<pad>']] * pad_length_y\n",
    "        buffer_y_shifted[index] = y_shifted + [telugu_wtoi['<pad>']] * pad_length_y\n",
    "    \n",
    "    \n",
    "    buffer_x = torch.tensor(buffer_x)\n",
    "    buffer_y = torch.tensor(buffer_y)\n",
    "    buffer_y_shifted = torch.tensor(buffer_y_shifted)\n",
    "    \n",
    "    print(buffer_x.shape, buffer_y.shape, buffer_y_shifted.shape)\n",
    "    \n",
    "    return buffer_x, buffer_y, buffer_y_shifted"
   ]
  },
  {
   "cell_type": "code",
   "execution_count": 71,
   "metadata": {},
   "outputs": [
    {
     "name": "stdout",
     "output_type": "stream",
     "text": [
      "torch.Size([64, 26]) torch.Size([64, 16]) torch.Size([64, 16])\n"
     ]
    }
   ],
   "source": [
    "input, target, target_shifted = data_generator(X, Y, Y_shifted, batch_size = 64, shuffle = True)"
   ]
  },
  {
   "cell_type": "code",
   "execution_count": 72,
   "metadata": {},
   "outputs": [
    {
     "data": {
      "text/plain": [
       "torch.Size([64, 26, 1])"
      ]
     },
     "execution_count": 72,
     "metadata": {},
     "output_type": "execute_result"
    }
   ],
   "source": [
    "class Encoder(nn.Module):\n",
    "    def __init__(self, input_vocab_size, embedding_dim, hidden_dim):        \n",
    "        super(Encoder, self).__init__()\n",
    "        self.embedding = nn.Embedding(input_vocab_size, embedding_dim)\n",
    "        self.LSTM = nn.LSTM(embedding_dim, hidden_size= hidden_dim,batch_first=True)\n",
    "    \n",
    "    def forward(self, x):\n",
    "        x = self.embedding(x)\n",
    "        x = self.LSTM(x)[0]\n",
    "        return x\n",
    "\n",
    "test_encoder = Encoder(len(english_wtoi), embedding_dim=10, hidden_dim=1)\n",
    "encoder_output = test_encoder.forward(input)# (batch_size, input_sequence_length, hidden_dim)\n",
    "encoder_output.shape"
   ]
  },
  {
   "cell_type": "code",
   "execution_count": 73,
   "metadata": {},
   "outputs": [
    {
     "data": {
      "text/plain": [
       "torch.Size([64, 16, 1])"
      ]
     },
     "execution_count": 73,
     "metadata": {},
     "output_type": "execute_result"
    }
   ],
   "source": [
    "class PreAttentionDecoder(nn.Module):\n",
    "    def __init__(self, target_vocab_size, embedding_dim, hidden_dim):\n",
    "        super(PreAttentionDecoder, self).__init__()\n",
    "        self.embedding = nn.Embedding(target_vocab_size, embedding_dim)\n",
    "        self.LSTM = nn.LSTM(embedding_dim, hidden_dim, batch_first=True)\n",
    "        \n",
    "    def forward(self, y):\n",
    "        y = self.embedding(y)\n",
    "        y = self.LSTM(y)[0]\n",
    "        return y\n",
    "\n",
    "test_decoder = PreAttentionDecoder(len(telugu_wtoi), embedding_dim = 10, hidden_dim =1)\n",
    "decoder_output = test_decoder.forward(target_shifted) # (batch_size, target_shifted_length, hidden_dim)\n",
    "decoder_output.shape"
   ]
  },
  {
   "cell_type": "code",
   "execution_count": 78,
   "metadata": {},
   "outputs": [],
   "source": [
    "def prepare_attention_input(encoder_output, decoder_output, input):\n",
    "\n",
    "    keys = encoder_output\n",
    "    values = encoder_output\n",
    "    \n",
    "    queries = decoder_output\n",
    "    \n",
    "    mask = ~(input == 0)\n",
    "    mask = mask.view((mask.shape[0] * 1, 1, mask.shape[1]))  \n",
    "    mask = mask + torch.zeros((1, decoder_output.shape[1], 1))\n",
    "\n",
    "    # mask shape = (batch_size * num_heads_attention, target_shifted_length, input_sequence_length) \n",
    "    \n",
    "    return queries, keys, values, mask"
   ]
  },
  {
   "cell_type": "code",
   "execution_count": 79,
   "metadata": {},
   "outputs": [
    {
     "data": {
      "text/plain": [
       "torch.Size([64, 16, 17372])"
      ]
     },
     "execution_count": 79,
     "metadata": {},
     "output_type": "execute_result"
    }
   ],
   "source": [
    "class Translator(nn.Module):\n",
    "    def __init__(self, input_vocab_size, embedding_dim, hidden_dim, target_vocab_size):\n",
    "        super(Translator, self).__init__()\n",
    "        self.encoder = Encoder(input_vocab_size, embedding_dim, hidden_dim)\n",
    "        self.predecoder = PreAttentionDecoder(target_vocab_size, embedding_dim, hidden_dim) \n",
    "        self.attention = nn.MultiheadAttention(hidden_dim, num_heads = 1, batch_first = True)\n",
    "        self.decoder = nn.LSTM(hidden_dim, hidden_dim, num_layers = 1, batch_first = True)\n",
    "        self.linear = nn.Linear(hidden_dim, target_vocab_size)\n",
    "        \n",
    "    def forward(self, input, target_shifted):\n",
    "        q, k, v, m = prepare_attention_input(self.encoder(input), self.predecoder(target_shifted), input)\n",
    "        attn_output, _ = self.attention(q, k, v, attn_mask = m)\n",
    "        y = self.decoder(attn_output)[0]\n",
    "        logits = self.linear(y)\n",
    "        return logits\n",
    "\n",
    "\n",
    "model = Translator(len(english_wtoi), 3, 1, len(telugu_wtoi))\n",
    "model.forward(input, target_shifted).shape\n",
    "        "
   ]
  }
 ],
 "metadata": {
  "kernelspec": {
   "display_name": "datascience",
   "language": "python",
   "name": "python3"
  },
  "language_info": {
   "codemirror_mode": {
    "name": "ipython",
    "version": 3
   },
   "file_extension": ".py",
   "mimetype": "text/x-python",
   "name": "python",
   "nbconvert_exporter": "python",
   "pygments_lexer": "ipython3",
   "version": "3.10.10"
  }
 },
 "nbformat": 4,
 "nbformat_minor": 2
}
