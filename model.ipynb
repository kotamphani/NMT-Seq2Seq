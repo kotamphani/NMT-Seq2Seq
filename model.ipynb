{
 "cells": [
  {
   "cell_type": "code",
   "execution_count": 6,
   "metadata": {},
   "outputs": [],
   "source": [
    "# Import necessary libraries\n",
    "import numpy as np\n",
    "import pandas as pd\n",
    "import torch\n",
    "import torch.nn as nn\n",
    "import torch.nn.functional as F\n",
    "import torch.optim as optim\n",
    "import random as r\n",
    "import string\n",
    "from sklearn.model_selection import train_test_split\n",
    "\n",
    "\n",
    "# Import custom utilities\n",
    "from utils import *"
   ]
  },
  {
   "cell_type": "code",
   "execution_count": 7,
   "metadata": {},
   "outputs": [
    {
     "name": "stdout",
     "output_type": "stream",
     "text": [
      "155798\n",
      "155798\n"
     ]
    }
   ],
   "source": [
    "# Load data from the dataset\n",
    "path = 'english_telugu_data.txt'\n",
    "english_sentences, telugu_sentences = load_data(path)\n",
    "print(len(english_sentences))\n",
    "print(len(telugu_sentences))"
   ]
  },
  {
   "cell_type": "code",
   "execution_count": 8,
   "metadata": {},
   "outputs": [],
   "source": [
    "# Preprocess the data\n",
    "english_sentences = preprocess(english_sentences)\n",
    "telugu_sentences = preprocess(telugu_sentences)"
   ]
  },
  {
   "cell_type": "code",
   "execution_count": 9,
   "metadata": {},
   "outputs": [
    {
     "data": {
      "text/plain": [
       "['అతని కాళ్ళు పొడవుగా ఉన్నాయి', 'టామ్ ఫ్రెంచ్ మాట్లాడటం ఎలా నేర్పించారు']"
      ]
     },
     "execution_count": 9,
     "metadata": {},
     "output_type": "execute_result"
    }
   ],
   "source": [
    "telugu_sentences[0:2]"
   ]
  },
  {
   "cell_type": "code",
   "execution_count": 10,
   "metadata": {},
   "outputs": [
    {
     "data": {
      "text/plain": [
       "['his legs are long',\n",
       " 'who taught tom how to speak french',\n",
       " 'i swim in the sea every day',\n",
       " 'tom popped into the supermarket on his way home to buy some milk',\n",
       " 'smoke filled the room',\n",
       " 'tom and mary understood each other',\n",
       " 'many men want to be thin too',\n",
       " 'we need three cups',\n",
       " 'i warned tom not to come here',\n",
       " 'you two may leave']"
      ]
     },
     "execution_count": 10,
     "metadata": {},
     "output_type": "execute_result"
    }
   ],
   "source": [
    "english_sentences[0:10]"
   ]
  },
  {
   "cell_type": "code",
   "execution_count": 11,
   "metadata": {},
   "outputs": [
    {
     "data": {
      "text/html": [
       "<div>\n",
       "<style scoped>\n",
       "    .dataframe tbody tr th:only-of-type {\n",
       "        vertical-align: middle;\n",
       "    }\n",
       "\n",
       "    .dataframe tbody tr th {\n",
       "        vertical-align: top;\n",
       "    }\n",
       "\n",
       "    .dataframe thead th {\n",
       "        text-align: right;\n",
       "    }\n",
       "</style>\n",
       "<table border=\"1\" class=\"dataframe\">\n",
       "  <thead>\n",
       "    <tr style=\"text-align: right;\">\n",
       "      <th></th>\n",
       "      <th>0</th>\n",
       "    </tr>\n",
       "  </thead>\n",
       "  <tbody>\n",
       "    <tr>\n",
       "      <th>count</th>\n",
       "      <td>155798.000000</td>\n",
       "    </tr>\n",
       "    <tr>\n",
       "      <th>mean</th>\n",
       "      <td>29.161979</td>\n",
       "    </tr>\n",
       "    <tr>\n",
       "      <th>std</th>\n",
       "      <td>11.435330</td>\n",
       "    </tr>\n",
       "    <tr>\n",
       "      <th>min</th>\n",
       "      <td>2.000000</td>\n",
       "    </tr>\n",
       "    <tr>\n",
       "      <th>25%</th>\n",
       "      <td>21.000000</td>\n",
       "    </tr>\n",
       "    <tr>\n",
       "      <th>50%</th>\n",
       "      <td>27.000000</td>\n",
       "    </tr>\n",
       "    <tr>\n",
       "      <th>75%</th>\n",
       "      <td>35.000000</td>\n",
       "    </tr>\n",
       "    <tr>\n",
       "      <th>max</th>\n",
       "      <td>527.000000</td>\n",
       "    </tr>\n",
       "  </tbody>\n",
       "</table>\n",
       "</div>"
      ],
      "text/plain": [
       "                   0\n",
       "count  155798.000000\n",
       "mean       29.161979\n",
       "std        11.435330\n",
       "min         2.000000\n",
       "25%        21.000000\n",
       "50%        27.000000\n",
       "75%        35.000000\n",
       "max       527.000000"
      ]
     },
     "execution_count": 11,
     "metadata": {},
     "output_type": "execute_result"
    }
   ],
   "source": [
    "# Calculate the length of each sentence\n",
    "lengths = [len(sentence) for sentence in english_sentences]\n",
    "lengths = pd.DataFrame(lengths)\n",
    "lengths.describe()"
   ]
  },
  {
   "cell_type": "code",
   "execution_count": 12,
   "metadata": {},
   "outputs": [
    {
     "data": {
      "text/plain": [
       "<Axes: >"
      ]
     },
     "execution_count": 12,
     "metadata": {},
     "output_type": "execute_result"
    },
    {
     "data": {
      "image/png": "[encoded data removed]",
      "text/plain": [
       "<Figure size 640x480 with 1 Axes>"
      ]
     },
     "metadata": {},
     "output_type": "display_data"
    }
   ],
   "source": [
    "lengths.plot(kind='box')"
   ]
  },
  {
   "cell_type": "code",
   "execution_count": 13,
   "metadata": {},
   "outputs": [
    {
     "data": {
      "text/plain": [
       "'ఏ పురుషుడైనా వివాహం చేసుకోవడానికి మరియు దీనికి విరుద్ధంగా సరైన స్త్రీ ఈ ప్రపంచంలో ఖచ్చితంగా ఉన్నారనడంలో సందేహం లేదు'"
      ]
     },
     "execution_count": 13,
     "metadata": {},
     "output_type": "execute_result"
    }
   ],
   "source": [
    "# Remove the sentence with length 527 from the list\n",
    "english_sentences.pop(lengths[lengths[0] == 527].index[0])\n",
    "telugu_sentences.pop(lengths[lengths[0] == 527].index[0])"
   ]
  },
  {
   "cell_type": "code",
   "execution_count": 14,
   "metadata": {},
   "outputs": [
    {
     "name": "stdout",
     "output_type": "stream",
     "text": [
      " len(english_vocab): 14225\n",
      " len(telugu_vocab): 38835\n"
     ]
    }
   ],
   "source": [
    "# Create vocabularies for Telugu and English words\n",
    "telugu_vocab = get_vocab(telugu_sentences)\n",
    "english_vocab = get_vocab(english_sentences)\n",
    "\n",
    "# Add special tokens to the vocabularies\n",
    "telugu_vocab  = ['<pad>','<unk>','<sos>','<eos>'] + telugu_vocab\n",
    "english_vocab = ['<pad>','<unk>','<sos>','<eos>'] + english_vocab\n",
    "\n",
    "print(f' len(english_vocab): {len(english_vocab)}')\n",
    "print(f' len(telugu_vocab): {len(telugu_vocab)}')"
   ]
  },
  {
   "cell_type": "code",
   "execution_count": 15,
   "metadata": {},
   "outputs": [
    {
     "name": "stdout",
     "output_type": "stream",
     "text": [
      "english_itow =  14225\n",
      "telugu_itow =  38835\n",
      "english_wtoi =  14225\n",
      "telugu_wtoi =  38835\n"
     ]
    }
   ],
   "source": [
    "# Create mappings between words and indices for both languages\n",
    "english_itow = {i: w for i, w in enumerate(english_vocab)}\n",
    "english_wtoi = {w:i for i, w in english_itow.items()}\n",
    " \n",
    "telugu_itow = {i: w for i, w in enumerate(telugu_vocab)}\n",
    "telugu_wtoi = {w:i for i, w in telugu_itow.items()}\n",
    "\n",
    "print(\"english_itow = \", len(english_itow)) \n",
    "print(\"telugu_itow = \", len(telugu_itow))\n",
    "print(\"english_wtoi = \", len(english_wtoi))\n",
    "print(\"telugu_wtoi = \", len(telugu_wtoi))\n"
   ]
  },
  {
   "cell_type": "code",
   "execution_count": 16,
   "metadata": {},
   "outputs": [
    {
     "data": {
      "text/plain": [
       "(140217, 140217, 15580, 15580)"
      ]
     },
     "execution_count": 16,
     "metadata": {},
     "output_type": "execute_result"
    }
   ],
   "source": [
    "# Split the data into training and validation sets\n",
    "X_train, X_val, Y_train, Y_val = train_test_split(english_sentences, telugu_sentences, test_size=0.1)\n",
    "len(X_train), len(Y_train), len(X_val), len(Y_val)"
   ]
  },
  {
   "cell_type": "code",
   "execution_count": 17,
   "metadata": {},
   "outputs": [
    {
     "name": "stdout",
     "output_type": "stream",
     "text": [
      "140217 140217 140217\n"
     ]
    }
   ],
   "source": [
    "# Tokenize the input and output of train data\n",
    "X_train = tokenize_input(X_train, english_wtoi)\n",
    "Y_train, Y_train_shifted = tokenize_output(Y_train, telugu_wtoi)\n",
    "print(len(X_train), len(Y_train), len(Y_train_shifted))"
   ]
  },
  {
   "cell_type": "code",
   "execution_count": 18,
   "metadata": {},
   "outputs": [
    {
     "name": "stdout",
     "output_type": "stream",
     "text": [
      "15580 15580 15580\n"
     ]
    }
   ],
   "source": [
    "# Tokenize the input and output of val data\n",
    "X_val = tokenize_input(X_val, english_wtoi)\n",
    "Y_val, Y_val_shifted = tokenize_output(Y_val, telugu_wtoi)\n",
    "print(len(X_val), len(Y_val), len(Y_val_shifted))"
   ]
  },
  {
   "cell_type": "code",
   "execution_count": 19,
   "metadata": {},
   "outputs": [],
   "source": [
    "# Assign buckets based on sentence lengths\n",
    "train_buckets = assign_buckets(X_train, [8, 16, 32, 64], [256, 128, 64, 8])\n",
    "val_buckets = assign_buckets(X_val, [8, 16, 32, 64], [256, 128, 64, 8])"
   ]
  },
  {
   "cell_type": "code",
   "execution_count": 20,
   "metadata": {},
   "outputs": [],
   "source": [
    "# Group together\n",
    "train_items = (X_train, Y_train, Y_train_shifted, train_buckets)\n",
    "val_items = (X_val, Y_val, Y_val_shifted, val_buckets)"
   ]
  },
  {
   "cell_type": "code",
   "execution_count": 21,
   "metadata": {},
   "outputs": [],
   "source": [
    "def data_generator(data_items, shuffle = True, verbose = False):\n",
    "    \n",
    "    X, Y, Y_shifted, buckets = data_items\n",
    "    \n",
    "    bin = r.choices(list(buckets.keys()), weights= [0.25, 0.25, 0, 0])[0]   # made probs of sequence length more than 16 to be 0 because of less data prone to overfitting.\n",
    "        \n",
    "    indexes = buckets[bin]\n",
    "    batch_size = bin[2]\n",
    "    \n",
    "    if shuffle:\n",
    "        r.shuffle(indexes)\n",
    "    \n",
    "    buffer_x = [0]*batch_size\n",
    "    buffer_y = [0]*batch_size\n",
    "    buffer_y_shifted = [0]*batch_size\n",
    "    \n",
    "    max_length_x = bin[1]\n",
    "    max_length_y = 0\n",
    "    \n",
    "    for i in range(batch_size):\n",
    "        buffer_x[i] = X[indexes[i]]\n",
    "        buffer_y[i] = Y[indexes[i]]\n",
    "        buffer_y_shifted[i] = Y_shifted[indexes[i]]\n",
    "        max_length_y = max(len(Y[indexes[i]]), max_length_y)\n",
    "    \n",
    "    max_length_y = 2**int(np.ceil((np.log2(max_length_y))))\n",
    "\n",
    "    \n",
    "    for index, (x, y, y_shifted) in enumerate(zip(buffer_x, buffer_y, buffer_y_shifted)):\n",
    "        pad_length_x = max_length_x - len(x)\n",
    "        pad_length_y = max_length_y - len(y)\n",
    "        \n",
    "        buffer_x[index] = x + [english_wtoi['<pad>']] * pad_length_x\n",
    "        buffer_y[index] = y + [telugu_wtoi['<pad>']] * pad_length_y\n",
    "        buffer_y_shifted[index] = y_shifted + [telugu_wtoi['<pad>']] * pad_length_y\n",
    "    \n",
    "    \n",
    "    buffer_x = torch.tensor(buffer_x)\n",
    "    buffer_y = torch.tensor(buffer_y)\n",
    "    buffer_y_shifted = torch.tensor(buffer_y_shifted)\n",
    "    \n",
    "    if verbose == True:\n",
    "        print(buffer_x.shape, buffer_y.shape, buffer_y_shifted.shape)\n",
    "    \n",
    "    return buffer_x, buffer_y, buffer_y_shifted"
   ]
  },
  {
   "cell_type": "code",
   "execution_count": 22,
   "metadata": {},
   "outputs": [
    {
     "name": "stdout",
     "output_type": "stream",
     "text": [
      "torch.Size([256, 8]) torch.Size([256, 8]) torch.Size([256, 8])\n"
     ]
    }
   ],
   "source": [
    "train_input, train_target, train_target_shifted = data_generator(train_items,shuffle = True, verbose= True)"
   ]
  },
  {
   "cell_type": "code",
   "execution_count": 23,
   "metadata": {},
   "outputs": [
    {
     "name": "stdout",
     "output_type": "stream",
     "text": [
      "torch.Size([128, 16]) torch.Size([128, 16]) torch.Size([128, 16])\n"
     ]
    }
   ],
   "source": [
    "val_input, val_target, val_target_shifted = data_generator(val_items ,shuffle = True, verbose= True)"
   ]
  },
  {
   "cell_type": "code",
   "execution_count": 24,
   "metadata": {},
   "outputs": [
    {
     "data": {
      "text/plain": [
       "torch.Size([256, 8, 1])"
      ]
     },
     "execution_count": 24,
     "metadata": {},
     "output_type": "execute_result"
    }
   ],
   "source": [
    "class Encoder(nn.Module):\n",
    "    def __init__(self, input_vocab_size, embedding_dim, hidden_dim):        \n",
    "        super().__init__()\n",
    "        self.embedding = nn.Embedding(input_vocab_size, embedding_dim)\n",
    "        self.LSTM = nn.LSTM(embedding_dim, hidden_size= hidden_dim,num_layers=2, batch_first=True)\n",
    "    \n",
    "    def forward(self, x):\n",
    "        x = self.embedding(x)\n",
    "        x = self.LSTM(x)[0]\n",
    "        return x\n",
    "\n",
    "# Just for testing\n",
    "test_encoder = Encoder(len(english_wtoi), embedding_dim=10, hidden_dim=1)\n",
    "encoder_output = test_encoder.forward(train_input)# (batch_size, input_sequence_length, hidden_dim)\n",
    "encoder_output.shape"
   ]
  },
  {
   "cell_type": "code",
   "execution_count": 25,
   "metadata": {},
   "outputs": [
    {
     "data": {
      "text/plain": [
       "torch.Size([128, 16, 1])"
      ]
     },
     "execution_count": 25,
     "metadata": {},
     "output_type": "execute_result"
    }
   ],
   "source": [
    "class PreAttentionDecoder(nn.Module):\n",
    "    def __init__(self, target_vocab_size, embedding_dim, hidden_dim):\n",
    "        super(PreAttentionDecoder, self).__init__()\n",
    "        self.embedding = nn.Embedding(target_vocab_size, embedding_dim)\n",
    "        self.LSTM = nn.LSTM(embedding_dim, hidden_dim, num_layers = 2, batch_first=True)\n",
    "        \n",
    "    def forward(self, y):\n",
    "        y = self.embedding(y)\n",
    "        y = self.LSTM(y)[0]\n",
    "        return y\n",
    "\n",
    "# For testing\n",
    "test_decoder = PreAttentionDecoder(len(telugu_wtoi), embedding_dim = 10, hidden_dim =1)\n",
    "decoder_output = test_decoder.forward(val_target_shifted) # (batch_size, target_shifted_length, hidden_dim)\n",
    "decoder_output.shape"
   ]
  },
  {
   "cell_type": "code",
   "execution_count": 26,
   "metadata": {},
   "outputs": [],
   "source": [
    "def prepare_attention_input(encoder_output, decoder_output, input):\n",
    "\n",
    "    keys = encoder_output\n",
    "    values = encoder_output\n",
    "    \n",
    "    queries = decoder_output\n",
    "    \n",
    "    mask = (input == 0)\n",
    "    mask = mask.unsqueeze(-2)\n",
    "    mask = mask.repeat(4, decoder_output.shape[1], 1)\n",
    "    \n",
    "    #mask = mask.view((mask.shape[0] * 1, 1, mask.shape[1]))  \n",
    "    #mask = mask + torch.zeros((1, decoder_output.shape[1], 1))\n",
    "\n",
    "    # mask shape = (batch_size * num_heads_attention, target_shifted_length, input_sequence_length) \n",
    "    \n",
    "    return queries, keys, values, mask"
   ]
  },
  {
   "cell_type": "code",
   "execution_count": 27,
   "metadata": {},
   "outputs": [],
   "source": [
    "class Translator(nn.Module):\n",
    "    def __init__(self, input_vocab_size, embedding_dim, hidden_dim, target_vocab_size):\n",
    "        super(Translator, self).__init__()\n",
    "        self.encoder = Encoder(input_vocab_size, embedding_dim, hidden_dim)\n",
    "        self.predecoder = PreAttentionDecoder(target_vocab_size, embedding_dim, hidden_dim) \n",
    "        self.attention = nn.MultiheadAttention(hidden_dim, num_heads = 4, batch_first = True)\n",
    "        self.decoder = nn.LSTM(hidden_dim, hidden_dim, num_layers = 2, batch_first = True)\n",
    "        self.linear = nn.Linear(hidden_dim, target_vocab_size)\n",
    "        \n",
    "    def forward(self, input, target_shifted):\n",
    "        q, k, v, m = prepare_attention_input(self.encoder(input), self.predecoder(target_shifted), input)\n",
    "        attn_output, _ = self.attention(q, k, v, attn_mask = m)\n",
    "        attn_output = attn_output + q\n",
    "        attn_output = nn.LayerNorm([attn_output.shape[1], attn_output.shape[2]])(attn_output)\n",
    "        y = self.decoder(attn_output)[0]\n",
    "        logits = self.linear(y)\n",
    "        return logits\n",
    "        "
   ]
  },
  {
   "cell_type": "code",
   "execution_count": 28,
   "metadata": {},
   "outputs": [],
   "source": [
    "def model_train(train_items, val_items, epochs, NNmodel):\n",
    "    interval = epochs // 10\n",
    "    optimizer = optim.AdamW(NNmodel.parameters())\n",
    "    NNmodel.train()\n",
    "    \n",
    "    for epoch in range(1, epochs + 1):\n",
    "        input, target, target_shifted = data_generator(train_items)\n",
    "        logits = NNmodel.forward(input, target_shifted)\n",
    "        logits = logits.view(-1, len(telugu_wtoi))\n",
    "        target = target.view(-1)\n",
    "        loss = F.cross_entropy(logits, target, ignore_index=telugu_wtoi['<pad>'])\n",
    "        \n",
    "        optimizer.zero_grad()\n",
    "        loss.backward()\n",
    "        optimizer.step()\n",
    "        \n",
    "        if epoch % interval == 0:\n",
    "            val_input, val_target, val_target_shifted = data_generator(val_items)\n",
    "            val_logits = NNmodel.forward(val_input, val_target_shifted)\n",
    "            val_logits = val_logits.view(-1, len(telugu_wtoi))\n",
    "            val_target = val_target.view(-1)\n",
    "            val_loss = F.cross_entropy(val_logits, val_target, ignore_index=telugu_wtoi['<pad>'])\n",
    "            print(f'Loss at epoch {epoch} ====> train: {loss.item():.4f}, val: {val_loss.item():.4f}')\n",
    "        \n",
    "    \n",
    "    return loss, logits"
   ]
  },
  {
   "cell_type": "code",
   "execution_count": 29,
   "metadata": {},
   "outputs": [],
   "source": [
    "@torch.no_grad()\n",
    "def evaluate(NNmodel):\n",
    "    input, target, target_shifted = data_generator(val_items)\n",
    "    logits = NNmodel.forward(input, target_shifted)\n",
    "\n",
    "    preds = F.softmax(logits, dim = 2)\n",
    "    preds = torch.argmax(preds, dim = 2)\n",
    "\n",
    "    mask = target != telugu_wtoi['<pad>']\n",
    "    accuracy = torch.sum(preds == target)/float(torch.sum(mask)) *100\n",
    "\n",
    "    logits = logits.view(-1, len(telugu_wtoi))\n",
    "    target = target.view(-1)\n",
    "\n",
    "    loss = F.cross_entropy(logits, target, ignore_index = telugu_wtoi['<pad>'])\n",
    "\n",
    "    print(f'Loss = {loss:.2f}, Accuracy = {accuracy:.2f}')\n",
    "    return None\n"
   ]
  },
  {
   "cell_type": "code",
   "execution_count": 30,
   "metadata": {},
   "outputs": [],
   "source": [
    "def logsoftmax_sample(log_probs, temperature=1.0, dim = 0): \n",
    "  \"\"\"Returns a sample from a log-softmax output, with temperature.\n",
    "\n",
    "  Args:\n",
    "    log_probs: Logarithms of probabilities (often coming from LogSofmax)\n",
    "    temperature: For scaling before sampling (1.0 = default, 0.0 = pick argmax)\n",
    "  \"\"\"\n",
    "  # This is equivalent to sampling from a softmax with temperature.\n",
    "  u = np.random.uniform(low=1e-6, high=1.0 - 1e-6, size=log_probs.shape)\n",
    "  g = torch.tensor(-np.log(-np.log(u)))\n",
    "  return torch.argmax(log_probs + g * temperature, dim = dim)"
   ]
  },
  {
   "cell_type": "code",
   "execution_count": 31,
   "metadata": {},
   "outputs": [],
   "source": [
    "@torch.no_grad()\n",
    "def next_symbol(NNmodel, input_token, cur_output_tokens):\n",
    "    \n",
    "    token_length = len(cur_output_tokens)\n",
    "    padded_length = 2**int(np.ceil((np.log2(token_length))))\n",
    "    padded = torch.tensor(cur_output_tokens + [0]*(padded_length - token_length))\n",
    "    padded = padded.view(1, padded_length)\n",
    "    \n",
    "    logits = NNmodel(input_token, padded)\n",
    "    \n",
    "    prob_last_token = F.softmax(logits, dim = 2)[0, token_length - 1]\n",
    "    symbol_index = int(torch.argmax(prob_last_token, dim =0))\n",
    "    \n",
    "    return symbol_index, float(prob_last_token[symbol_index])\n",
    "\n",
    "\n",
    "\n",
    "def sampling_decode(NNmodel, input_sentence, input_wtoi, output_itow, output_wtoi):\n",
    "    \n",
    "    input_token = torch.tensor(tokenize_input(input_sentence, input_wtoi))\n",
    "    \n",
    "    cur_output_tokens = [output_wtoi['<sos>']]\n",
    "    cur_output = 0\n",
    "    \n",
    "    EOS = output_wtoi['<eos>']\n",
    "    while cur_output != EOS:\n",
    "        cur_output, log_prob = next_symbol(NNmodel, input_token, cur_output_tokens)\n",
    "        cur_output_tokens.append(cur_output)\n",
    "    sentence = detokenize(cur_output_tokens,output_itow)\n",
    "    \n",
    "    return cur_output_tokens, sentence, log_prob"
   ]
  },
  {
   "cell_type": "code",
   "execution_count": 97,
   "metadata": {},
   "outputs": [
    {
     "data": {
      "text/plain": [
       "46115251"
      ]
     },
     "execution_count": 97,
     "metadata": {},
     "output_type": "execute_result"
    }
   ],
   "source": [
    "input_vocab_size = len(english_wtoi)\n",
    "embedding_dim = 256\n",
    "hidden_dim = 512\n",
    "target_vocab_size = len(telugu_wtoi)\n",
    "model = Translator(input_vocab_size, embedding_dim, hidden_dim, target_vocab_size)\n",
    "\n",
    "n_parameters = sum(p.numel() for p in model.parameters() if p.requires_grad)\n",
    "n_parameters"
   ]
  },
  {
   "cell_type": "code",
   "execution_count": 106,
   "metadata": {},
   "outputs": [
    {
     "name": "stdout",
     "output_type": "stream",
     "text": [
      "Loss at epoch 2 ====> train: 6.9497, val: 6.4495\n",
      "Loss at epoch 4 ====> train: 6.7768, val: 7.1361\n",
      "Loss at epoch 6 ====> train: 6.6992, val: 6.4101\n",
      "Loss at epoch 8 ====> train: 6.2812, val: 6.8773\n",
      "Loss at epoch 10 ====> train: 6.1302, val: 6.0598\n",
      "Loss at epoch 12 ====> train: 7.2110, val: 6.7701\n",
      "Loss at epoch 14 ====> train: 6.1419, val: 6.6662\n",
      "Loss at epoch 16 ====> train: 6.8013, val: 6.2881\n",
      "Loss at epoch 18 ====> train: 6.7256, val: 6.6590\n",
      "Loss at epoch 20 ====> train: 6.1398, val: 6.7583\n"
     ]
    }
   ],
   "source": [
    "loss, logits = model_train(train_items, val_items, 20, model)"
   ]
  },
  {
   "cell_type": "code",
   "execution_count": 110,
   "metadata": {},
   "outputs": [
    {
     "data": {
      "text/plain": [
       "([2, 31395, 22796, 3], '<sos> టామ్ చాలా <eos>', 0.025383463129401207)"
      ]
     },
     "execution_count": 110,
     "metadata": {},
     "output_type": "execute_result"
    }
   ],
   "source": [
    "input_sentence = preprocess([\"I love you\"]) \n",
    "sampling_decode(model, input_sentence,input_wtoi= english_wtoi, output_itow=telugu_itow, output_wtoi=telugu_wtoi)\n"
   ]
  },
  {
   "cell_type": "code",
   "execution_count": null,
   "metadata": {},
   "outputs": [],
   "source": []
  }
 ],
 "metadata": {
  "kernelspec": {
   "display_name": "datascience",
   "language": "python",
   "name": "python3"
  },
  "language_info": {
   "codemirror_mode": {
    "name": "ipython",
    "version": 3
   },
   "file_extension": ".py",
   "mimetype": "text/x-python",
   "name": "python",
   "nbconvert_exporter": "python",
   "pygments_lexer": "ipython3",
   "version": "3.10.10"
  }
 },
 "nbformat": 4,
 "nbformat_minor": 2
}
